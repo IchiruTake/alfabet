{
 "cells": [
  {
   "cell_type": "code",
   "execution_count": 1,
   "metadata": {},
   "outputs": [],
   "source": [
    "from itertools import chain\n",
    "import dill\n",
    "    \n",
    "import pandas as pd\n",
    "import numpy as np\n",
    "import tensorflow as tf\n",
    "import nfp\n",
    "\n",
    "from alfabet.fragment import fragment_iterator"
   ]
  },
  {
   "cell_type": "code",
   "execution_count": 4,
   "metadata": {},
   "outputs": [],
   "source": [
    "from alfabet.preprocess_inputs import atom_featurizer, bond_featurizer"
   ]
  },
  {
   "cell_type": "code",
   "execution_count": 2,
   "metadata": {},
   "outputs": [],
   "source": [
    "model = tf.keras.models.load_model(\n",
    "    'alfabet/model_files/best_model.hdf5',\n",
    "    custom_objects=nfp.custom_objects)\n",
    "\n",
    "with open('alfabet/model_files/preprocessor.p', 'rb') as f:\n",
    "    preprocessor = dill.load(f)"
   ]
  },
  {
   "cell_type": "code",
   "execution_count": 3,
   "metadata": {},
   "outputs": [],
   "source": [
    "preprocessor.to_json('alfabet/model_files/preprocessor.json')"
   ]
  },
  {
   "cell_type": "code",
   "execution_count": 5,
   "metadata": {},
   "outputs": [
    {
     "data": {
      "text/plain": [
       "{'n_atom': 9,\n",
       " 'n_bond': 8,\n",
       " 'bond_indices': array([0, 2, 3, 4, 0, 1, 5, 6, 1, 7, 2, 3, 4, 5, 6, 7]),\n",
       " 'atom': array([ 2, 18, 19,  8,  8,  8,  8,  8,  8]),\n",
       " 'bond': array([ 2,  3,  3,  3,  2, 20,  3,  3, 21, 22, 10, 10, 10, 10, 10, 24]),\n",
       " 'connectivity': array([[0, 1],\n",
       "        [0, 3],\n",
       "        [0, 4],\n",
       "        [0, 5],\n",
       "        [1, 0],\n",
       "        [1, 2],\n",
       "        [1, 6],\n",
       "        [1, 7],\n",
       "        [2, 1],\n",
       "        [2, 8],\n",
       "        [3, 0],\n",
       "        [4, 0],\n",
       "        [5, 0],\n",
       "        [6, 1],\n",
       "        [7, 1],\n",
       "        [8, 2]])}"
      ]
     },
     "execution_count": 5,
     "metadata": {},
     "output_type": "execute_result"
    }
   ],
   "source": [
    "preprocessor.construct_feature_matrices('CCO', train=False)"
   ]
  },
  {
   "cell_type": "code",
   "execution_count": 6,
   "metadata": {},
   "outputs": [],
   "source": [
    "del preprocessor"
   ]
  },
  {
   "cell_type": "code",
   "execution_count": 8,
   "metadata": {},
   "outputs": [],
   "source": [
    "preprocessor = nfp.SmilesPreprocessor(atom_features=atom_featurizer, bond_features=bond_featurizer)\n",
    "preprocessor.from_json('alfabet/model_files/preprocessor.json')"
   ]
  },
  {
   "cell_type": "code",
   "execution_count": 9,
   "metadata": {},
   "outputs": [
    {
     "data": {
      "text/plain": [
       "{'n_atom': 9,\n",
       " 'n_bond': 8,\n",
       " 'bond_indices': array([0, 2, 3, 4, 0, 1, 5, 6, 1, 7, 2, 3, 4, 5, 6, 7]),\n",
       " 'atom': array([ 2, 18, 19,  8,  8,  8,  8,  8,  8]),\n",
       " 'bond': array([ 2,  3,  3,  3,  2, 20,  3,  3, 21, 22, 10, 10, 10, 10, 10, 24]),\n",
       " 'connectivity': array([[0, 1],\n",
       "        [0, 3],\n",
       "        [0, 4],\n",
       "        [0, 5],\n",
       "        [1, 0],\n",
       "        [1, 2],\n",
       "        [1, 6],\n",
       "        [1, 7],\n",
       "        [2, 1],\n",
       "        [2, 8],\n",
       "        [3, 0],\n",
       "        [4, 0],\n",
       "        [5, 0],\n",
       "        [6, 1],\n",
       "        [7, 1],\n",
       "        [8, 2]])}"
      ]
     },
     "execution_count": 9,
     "metadata": {},
     "output_type": "execute_result"
    }
   ],
   "source": [
    "preprocessor.construct_feature_matrices('CCO', train=False)"
   ]
  },
  {
   "cell_type": "code",
   "execution_count": null,
   "metadata": {},
   "outputs": [],
   "source": [
    "smiles_iterator = ['CC', 'NCCO', 'CF', 'CO', 'CN', 'CCl', 'c1ccccc1', 'B']"
   ]
  },
  {
   "cell_type": "code",
   "execution_count": null,
   "metadata": {},
   "outputs": [],
   "source": [
    "frag_df = pd.DataFrame(chain(*(fragment_iterator(smiles)\n",
    "                               for smiles in smiles_iterator)))"
   ]
  },
  {
   "cell_type": "code",
   "execution_count": null,
   "metadata": {},
   "outputs": [],
   "source": [
    "frag_df.head()"
   ]
  },
  {
   "cell_type": "code",
   "execution_count": null,
   "metadata": {},
   "outputs": [],
   "source": [
    "from tqdm import tqdm"
   ]
  },
  {
   "cell_type": "code",
   "execution_count": null,
   "metadata": {},
   "outputs": [],
   "source": [
    "def check_valid(iinput):\n",
    "    \"\"\" Check the given SMILES to ensure it's present in the model's\n",
    "    preprocessor dictionary.\n",
    "\n",
    "    Returns:\n",
    "    (is_outlier, missing_atom, missing_bond)\n",
    "\n",
    "    \"\"\"\n",
    "\n",
    "    missing_bond = np.array(\n",
    "        list(set(iinput['bond_indices'][np.array(iinput['bond'] == 1)].numpy().tolist())))\n",
    "    missing_atom = np.arange(iinput['n_atom'])[np.array(iinput['atom'] == 1).squeeze()]\n",
    "    is_outlier = bool((missing_bond.size != 0) | (missing_atom.size != 0))\n",
    "\n",
    "    return not is_outlier"
   ]
  },
  {
   "cell_type": "code",
   "execution_count": null,
   "metadata": {},
   "outputs": [],
   "source": [
    "def prediction_generator(smiles_iterator):\n",
    "    \n",
    "    dataset = tf.data.Dataset.from_generator(\n",
    "        lambda: (preprocessor.construct_feature_matrices(item, train=False)\n",
    "                 for item in smiles_iterator),\n",
    "        output_types=preprocessor.output_types,\n",
    "        output_shapes=preprocessor.output_shapes).batch(1)\n",
    "    \n",
    "    for molecule, inputs in tqdm(zip(smiles_iterator, dataset)):\n",
    "        out = model.predict_on_batch(inputs)\n",
    "        df = pd.DataFrame(out[0, :inputs['n_bond'][0], 0], columns=['BDE'])\n",
    "        df['molecule'] = molecule\n",
    "        df.index.name = 'bond_index'\n",
    "        df.reset_index(inplace=True)\n",
    "        \n",
    "        df['is_valid'] = check_valid(inputs)\n",
    "        \n",
    "        yield df"
   ]
  },
  {
   "cell_type": "code",
   "execution_count": null,
   "metadata": {},
   "outputs": [],
   "source": [
    "df = pd.concat(prediction_generator(smiles_iterator))"
   ]
  },
  {
   "cell_type": "code",
   "execution_count": null,
   "metadata": {},
   "outputs": [],
   "source": [
    "frag_df.merge(df, on=['molecule', 'bond_index'], how='left')"
   ]
  },
  {
   "cell_type": "code",
   "execution_count": null,
   "metadata": {},
   "outputs": [],
   "source": [
    "df"
   ]
  },
  {
   "cell_type": "code",
   "execution_count": null,
   "metadata": {},
   "outputs": [],
   "source": [
    "fr"
   ]
  },
  {
   "cell_type": "code",
   "execution_count": null,
   "metadata": {},
   "outputs": [],
   "source": [
    "df.shape"
   ]
  },
  {
   "cell_type": "code",
   "execution_count": null,
   "metadata": {},
   "outputs": [],
   "source": [
    "df.indexex."
   ]
  },
  {
   "cell_type": "code",
   "execution_count": null,
   "metadata": {},
   "outputs": [],
   "source": [
    "df"
   ]
  },
  {
   "cell_type": "code",
   "execution_count": null,
   "metadata": {},
   "outputs": [],
   "source": [
    "x"
   ]
  },
  {
   "cell_type": "code",
   "execution_count": null,
   "metadata": {},
   "outputs": [],
   "source": [
    "smiles"
   ]
  },
  {
   "cell_type": "code",
   "execution_count": null,
   "metadata": {},
   "outputs": [],
   "source": [
    "x"
   ]
  },
  {
   "cell_type": "code",
   "execution_count": null,
   "metadata": {},
   "outputs": [],
   "source": [
    "from itertools import zi"
   ]
  },
  {
   "cell_type": "code",
   "execution_count": null,
   "metadata": {},
   "outputs": [],
   "source": []
  },
  {
   "cell_type": "code",
   "execution_count": null,
   "metadata": {},
   "outputs": [],
   "source": []
  },
  {
   "cell_type": "code",
   "execution_count": null,
   "metadata": {},
   "outputs": [],
   "source": [
    "import pandas as pd"
   ]
  },
  {
   "cell_type": "code",
   "execution_count": null,
   "metadata": {},
   "outputs": [],
   "source": []
  },
  {
   "cell_type": "code",
   "execution_count": null,
   "metadata": {},
   "outputs": [],
   "source": [
    "out.numpy()"
   ]
  },
  {
   "cell_type": "code",
   "execution_count": null,
   "metadata": {},
   "outputs": [],
   "source": []
  }
 ],
 "metadata": {
  "kernelspec": {
   "display_name": "Python 3",
   "language": "python",
   "name": "python3"
  },
  "language_info": {
   "codemirror_mode": {
    "name": "ipython",
    "version": 3
   },
   "file_extension": ".py",
   "mimetype": "text/x-python",
   "name": "python",
   "nbconvert_exporter": "python",
   "pygments_lexer": "ipython3",
   "version": "3.7.7"
  }
 },
 "nbformat": 4,
 "nbformat_minor": 4
}
